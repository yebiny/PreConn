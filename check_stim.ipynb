{
 "cells": [
  {
   "cell_type": "code",
   "execution_count": 3,
   "metadata": {},
   "outputs": [],
   "source": [
    "import os\n",
    "from os import listdir, walk\n",
    "from os.path import isfile, join\n",
    "import pandas as pd\n",
    "import numpy as np"
   ]
  },
  {
   "cell_type": "code",
   "execution_count": 4,
   "metadata": {},
   "outputs": [],
   "source": [
    "def see_dir(dir_path):\n",
    "    print('Total File sizes in *'+dir_path+'*')\n",
    "    a=0\n",
    "    for f in os.listdir(dir_path):\n",
    "        if 'zip' not in f:\n",
    "            a+=1\n",
    "            print(f.ljust(30) + str(round(os.path.getsize(dir_path + '/' + f) / 1000000, 4)) + 'MB')\n",
    "    print('# of files: ', a)\n",
    "    "
   ]
  },
  {
   "cell_type": "code",
   "execution_count": 5,
   "metadata": {},
   "outputs": [
    {
     "name": "stdout",
     "output_type": "stream",
     "text": [
      "Total File sizes in *1-FSO_localizer/stim/object*\n",
      "48.jpg                        0.021MB\n",
      "8.jpg                         0.0145MB\n",
      "9.jpg                         0.0301MB\n",
      "14.jpg                        0.0163MB\n",
      "28.jpg                        0.0108MB\n",
      "29.jpg                        0.0206MB\n",
      "15.jpg                        0.0076MB\n",
      "17.jpg                        0.0107MB\n",
      "16.jpg                        0.0064MB\n",
      "12.jpg                        0.012MB\n",
      "13.jpg                        0.0191MB\n",
      "39.jpg                        0.011MB\n",
      "11.jpg                        0.0227MB\n",
      "10.jpg                        0.0122MB\n",
      "38.jpg                        0.0126MB\n",
      "21.jpg                        0.0288MB\n",
      "35.jpg                        0.0105MB\n",
      "34.jpg                        0.0226MB\n",
      "20.jpg                        0.0106MB\n",
      "36.jpg                        0.0112MB\n",
      "22.jpg                        0.0108MB\n",
      "23.jpg                        0.0108MB\n",
      "37.jpg                        0.0117MB\n",
      "33.jpg                        0.0147MB\n",
      "27.jpg                        0.0087MB\n",
      "26.jpg                        0.0276MB\n",
      "32.jpg                        0.0104MB\n",
      "18.jpg                        0.0176MB\n",
      "24.jpg                        0.0236MB\n",
      "30.jpg                        0.0135MB\n",
      "31.jpg                        0.0129MB\n",
      "25.jpg                        0.0119MB\n",
      "19.jpg                        0.0185MB\n",
      "42.jpg                        0.0185MB\n",
      "4.jpg                         0.0138MB\n",
      "5.jpg                         0.0076MB\n",
      "43.jpg                        0.0146MB\n",
      "7.jpg                         0.0107MB\n",
      "41.jpg                        0.018MB\n",
      "40.jpg                        0.0165MB\n",
      "6.jpg                         0.0126MB\n",
      "2.jpg                         0.02MB\n",
      "44.jpg                        0.0281MB\n",
      "45.jpg                        0.0129MB\n",
      "3.jpg                         0.0129MB\n",
      "47.jpg                        0.011MB\n",
      "1.jpg                         0.0127MB\n",
      "46.jpg                        0.0111MB\n",
      "# of files:  48\n"
     ]
    }
   ],
   "source": [
    "title = '1-FSO_localizer/stim/object'\n",
    "see_dir(title)"
   ]
  },
  {
   "cell_type": "code",
   "execution_count": 6,
   "metadata": {},
   "outputs": [],
   "source": [
    "import glob\n",
    "import cv2 \n",
    "\n",
    "bad_size_list=[]\n",
    "data_files = sorted(glob.glob(title + '/*')) \n",
    "for f in data_files:\n",
    "    img = cv2.imread(f) \n",
    "    if img.shape[0] != 300 or img.shape[1]!=300:\n",
    "        bad_size_list.append(f)\n",
    "        "
   ]
  },
  {
   "cell_type": "code",
   "execution_count": null,
   "metadata": {},
   "outputs": [],
   "source": [
    "img = cv2.imread(bad_size_list[0], cv2.IMREAD_COLOR)\n",
    "cv2.imshow('img', img)\n",
    "cv2.waitKey(0)\n",
    "cv2.destroyAllWindows()"
   ]
  },
  {
   "cell_type": "code",
   "execution_count": null,
   "metadata": {},
   "outputs": [],
   "source": []
  }
 ],
 "metadata": {
  "kernelspec": {
   "display_name": "Python 3",
   "language": "python",
   "name": "python3"
  },
  "language_info": {
   "codemirror_mode": {
    "name": "ipython",
    "version": 3
   },
   "file_extension": ".py",
   "mimetype": "text/x-python",
   "name": "python",
   "nbconvert_exporter": "python",
   "pygments_lexer": "ipython3",
   "version": "3.7.4"
  }
 },
 "nbformat": 4,
 "nbformat_minor": 4
}
